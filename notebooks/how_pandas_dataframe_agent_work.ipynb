{
 "cells": [
  {
   "cell_type": "code",
   "execution_count": 1,
   "metadata": {},
   "outputs": [],
   "source": [
    "from langchain_experimental.agents.agent_toolkits.pandas.base import create_pandas_dataframe_agent\n",
    "from langchain_openai import ChatOpenAI\n",
    "import pandas as pd\n",
    "import matplotlib.pyplot as plt"
   ]
  },
  {
   "cell_type": "code",
   "execution_count": 2,
   "metadata": {},
   "outputs": [
    {
     "name": "stderr",
     "output_type": "stream",
     "text": [
      "\u001b[32m2025-05-18 16:16:56.625\u001b[0m | \u001b[1mINFO    \u001b[0m | \u001b[36msrc.config\u001b[0m:\u001b[36m<module>\u001b[0m:\u001b[36m11\u001b[0m - \u001b[1mPROJ_ROOT path is: /Users/Shared/DATA/DataAnalysis_Agent/DA_Agent\u001b[0m\n"
     ]
    },
    {
     "data": {
      "text/plain": [
       "ChatGoogleGenerativeAI(model='models/gemini-2.0-flash', google_api_key=SecretStr('**********'), temperature=0.0, client=<google.ai.generativelanguage_v1beta.services.generative_service.client.GenerativeServiceClient object at 0x124b1c440>, default_metadata=(), model_kwargs={})"
      ]
     },
     "execution_count": 2,
     "metadata": {},
     "output_type": "execute_result"
    }
   ],
   "source": [
    "import sys\n",
    "sys.path.append(\"/Users/Shared/DATA/DataAnalysis_Agent/DA_Agent\")\n",
    "from src.models.llms import load_llm\n",
    "\n",
    "MODEL_NAME = \"gemini-2.0-flash\"\n",
    "llm = load_llm(model_name=MODEL_NAME)\n",
    "llm"
   ]
  },
  {
   "cell_type": "code",
   "execution_count": 3,
   "metadata": {},
   "outputs": [
    {
     "data": {
      "text/plain": [
       "AIMessage(content='I am a large language model, trained by Google.', additional_kwargs={}, response_metadata={'prompt_feedback': {'block_reason': 0, 'safety_ratings': []}, 'finish_reason': 'STOP', 'model_name': 'gemini-2.0-flash', 'safety_ratings': []}, id='run--2a18c19e-5147-486e-b715-12874bc0e90a-0')"
      ]
     },
     "execution_count": 3,
     "metadata": {},
     "output_type": "execute_result"
    }
   ],
   "source": [
    "llm.invoke(\"Hello, who r u??\")"
   ]
  },
  {
   "cell_type": "code",
   "execution_count": 35,
   "metadata": {},
   "outputs": [
    {
     "data": {
      "text/plain": [
       "AgentExecutor(verbose=True, agent=RunnableAgent(runnable=RunnableAssign(mapper={\n",
       "  agent_scratchpad: RunnableLambda(lambda x: format_log_to_str(x['intermediate_steps']))\n",
       "})\n",
       "| PromptTemplate(input_variables=['agent_scratchpad', 'input'], input_types={}, partial_variables={'df_head': '|    | Order date   | SUBSIDIARY_CD   |      GLOBAL_NO |   CLASSIFY_CD |   CUST_CD | BRAND_CD   | INNER_CD    |   SUPPLIER_CD |   Sales order line number |   Stock class |   Consider count hodiday Saturday |   SO QTY |   OTHER AREA SHIP DIV |   ALLOCATION QTY |   SUPPLIER INV AMOUNT | PACKING RANK   | PRODUCT_CD       |   PRODUCT ATTRIBUTION |   SPECIAL DIV |   LOGICAL PLANT |   PURCHASE AMOUNT | VSD        |   DIRECT SHIP FLG |   DELI_DIV |   label | Ship Mode   |   SHIP DECISION NO |   PACK QTY |   WEIGHT PER PIECE |   SUPPLIER_DIV |   SPECIAL_DIV |   SO_DAY_OF_MONTH |   SO_DAY_OF_WEEK |   REASON_CD |   SOUF_RCV_NO |   QTUF_RCV_NO |   SO_TIME |\\n|---:|:-------------|:----------------|---------------:|--------------:|----------:|:-----------|:------------|--------------:|--------------------------:|--------------:|----------------------------------:|---------:|----------------------:|-----------------:|----------------------:|:---------------|:-----------------|----------------------:|--------------:|----------------:|------------------:|:-----------|------------------:|-----------:|--------:|:------------|-------------------:|-----------:|-------------------:|---------------:|--------------:|------------------:|-----------------:|------------:|--------------:|--------------:|----------:|\\n|  0 | 2022-08-25   | MJP             | 08344472000137 |      21031103 |    344472 | OSA1       | F7171260007 |          8121 |                         8 |             1 |                                 4 |        1 |                     1 |                1 |                 13240 | Z              | EL-2C-304-3.5S   |                     1 |             0 |              52 |             13240 | 2022-11-01 |                 0 |         00 |       1 | C           |                nan |          0 |               1020 |              2 |             0 |                25 |                4 |         453 |           nan |           nan |    135557 |\\n|  1 | 2022-08-12   | MJP             | 06000641365551 |       3712333 |       641 | MSM1       | 30071630003 |          0263 |                         1 |             1 |                                 0 |        2 |                   nan |                2 |                  1532 | A              | MLSTN15-10       |                     1 |             0 |              53 |              1532 | 2022-08-26 |                 1 |         50 |       1 | T           |             166104 |          0 |                120 |              1 |             0 |                12 |                5 |         451 |           nan |           nan |    134532 |\\n|  2 | 2022-07-08   | MJP             | 07032167936864 |      21045918 |     32167 | SMC1       | F7499483132 |          9102 |                         1 |             1 |                                 4 |        1 |                     1 |                1 |                 45710 | B              | CDA2L80-1600Z    |                     1 |             0 |              55 |             45710 | 2022-09-15 |                 0 |         00 |       1 | Q           |             461869 |          0 |              18000 |              3 |             0 |                 8 |                5 |         410 |           nan |           nan |    160936 |\\n|  3 | 2022-07-08   | MJP             | 01710046000973 |      21058302 |    710046 | MIB1       | F4524160001 |          9163 |                         1 |             1 |                                 4 |        2 |                   nan |                2 |                  4546 | Z              | BSTRODNA-45-1000 |                     1 |             0 |              53 |              4546 | 2023-01-20 |                 0 |         00 |       1 | B           |                nan |          0 |                500 |              2 |             0 |                 8 |                5 |         453 |           nan |           nan |    160702 |\\n|  4 | 2022-08-25   | MJP             | 07107539916817 |      21050569 |    107539 | NIQ1       | F3017310155 |          9176 |                         6 |             1 |                                 4 |        2 |                   nan |                2 |                   158 | Z              | AFS-2060-4-80    |                     1 |             0 |              55 |               158 | 2022-10-03 |                 1 |         50 |       1 | R           |             508041 |          0 |                 36 |              2 |             0 |                25 |                4 |         455 |           nan |           nan |    160244 |', 'tools': 'python_repl_ast - A Python shell. Use this to execute python commands. Input should be a valid python command. When using this tool, sometimes output is abbreviated - make sure it does not look abbreviated before using it in your answer.', 'tool_names': 'python_repl_ast'}, template='\\nYou are working with a pandas dataframe in Python. The name of the dataframe is `df`.\\nYou should use the tools below to answer the question posed of you:\\n\\n{tools}\\n\\nUse the following format:\\n\\nQuestion: the input question you must answer\\nThought: you should always think about what to do\\nAction: the action to take, should be one of [{tool_names}]\\nAction Input: the input to the action\\nObservation: the result of the action\\n... (this Thought/Action/Action Input/Observation can repeat N times)\\nThought: I now know the final answer\\nFinal Answer: the final answer to the original input question\\n\\n\\nThis is the result of `print(df.head())`:\\n{df_head}\\n\\nBegin!\\nQuestion: {input}\\n{agent_scratchpad}')\n",
       "| RunnableBinding(bound=ChatGoogleGenerativeAI(model='models/gemini-2.0-flash', google_api_key=SecretStr('**********'), temperature=0.0, client=<google.ai.generativelanguage_v1beta.services.generative_service.client.GenerativeServiceClient object at 0x124b1c440>, default_metadata=(), model_kwargs={}), kwargs={'stop': ['\\nObservation']}, config={}, config_factories=[])\n",
       "| ReActSingleInputOutputParser(), input_keys_arg=['input'], return_keys_arg=['output'], stream_runnable=True), tools=[PythonAstREPLTool(globals={}, locals={'df':        Order date SUBSIDIARY_CD       GLOBAL_NO  CLASSIFY_CD  CUST_CD  \\\n",
       "0      2022-08-25           MJP  08344472000137     21031103   344472   \n",
       "1      2022-08-12           MJP  06000641365551      3712333      641   \n",
       "2      2022-07-08           MJP  07032167936864     21045918    32167   \n",
       "3      2022-07-08           MJP  01710046000973     21058302   710046   \n",
       "4      2022-08-25           MJP  07107539916817     21050569   107539   \n",
       "...           ...           ...             ...          ...      ...   \n",
       "26212  2022-07-27           MJP  KAW06CCI000005     21020310   147666   \n",
       "26213  2022-07-27           MJP  GC00HIAI002754     23027680   251577   \n",
       "26214  2022-07-27           MJP  GA00MTLM000244      3721101   251577   \n",
       "26215  2022-08-19           MJP  CAW02AW3000626      6050902   254252   \n",
       "26216  2022-09-16           MJP  CAW042NK000287      3812709   254252   \n",
       "\n",
       "      BRAND_CD     INNER_CD SUPPLIER_CD  Sales order line number  Stock class  \\\n",
       "0         OSA1  F7171260007        8121                        8            1   \n",
       "1         MSM1  30071630003        0263                        1            1   \n",
       "2         SMC1  F7499483132        9102                        1            1   \n",
       "3         MIB1  F4524160001        9163                        1            1   \n",
       "4         NIQ1  F3017310155        9176                        6            1   \n",
       "...        ...          ...         ...                      ...          ...   \n",
       "26212     UNT1  F3016410297        8107                        1            1   \n",
       "26213     TRC1  K8014170003        8484                        2            1   \n",
       "26214     MSM1  30016660009        3764                        1            1   \n",
       "26215     MSM1  62700021018        1029                        6            0   \n",
       "26216     MSM1  30299430004        0750                        3            1   \n",
       "\n",
       "       Consider count hodiday Saturday  SO QTY  OTHER AREA SHIP DIV  \\\n",
       "0                                    4       1                  1.0   \n",
       "1                                    0       2                  NaN   \n",
       "2                                    4       1                  1.0   \n",
       "3                                    4       2                  NaN   \n",
       "4                                    4       2                  NaN   \n",
       "...                                ...     ...                  ...   \n",
       "26212                                4       5                  NaN   \n",
       "26213                                4      13                  NaN   \n",
       "26214                                0      60                  NaN   \n",
       "26215                                4       2                  NaN   \n",
       "26216                                0       2                  NaN   \n",
       "\n",
       "       ALLOCATION QTY  SUPPLIER INV AMOUNT PACKING RANK        PRODUCT_CD  \\\n",
       "0                   1              13240.0            Z    EL-2C-304-3.5S   \n",
       "1                   2               1532.0            A        MLSTN15-10   \n",
       "2                   1              45710.0            B     CDA2L80-1600Z   \n",
       "3                   2               4546.0            Z  BSTRODNA-45-1000   \n",
       "4                   2                158.0            Z     AFS-2060-4-80   \n",
       "...               ...                  ...          ...               ...   \n",
       "26212               5                725.0            Z       405-1.5GT-2   \n",
       "26213              13              15730.0            Z        TWB16-2150   \n",
       "26214              60              20580.0            Z  FSFJBA-D8-L69-M5   \n",
       "26215               2               8180.0            Z    DIAPC-10-15000   \n",
       "26216               2               5410.0            Z      FBLGN25-0.76   \n",
       "\n",
       "       PRODUCT ATTRIBUTION  SPECIAL DIV  LOGICAL PLANT  PURCHASE AMOUNT  \\\n",
       "0                        1            0             52          13240.0   \n",
       "1                        1            0             53           1532.0   \n",
       "2                        1            0             55          45710.0   \n",
       "3                        1            0             53           4546.0   \n",
       "4                        1            0             55            158.0   \n",
       "...                    ...          ...            ...              ...   \n",
       "26212                    1            1             53            725.0   \n",
       "26213                    1            1             53          15730.0   \n",
       "26214                    1            1             53          20580.0   \n",
       "26215                    0            1             53           8180.0   \n",
       "26216                    1            1             53           5410.0   \n",
       "\n",
       "              VSD  DIRECT SHIP FLG DELI_DIV  label Ship Mode  \\\n",
       "0      2022-11-01                0       00      1         C   \n",
       "1      2022-08-26                1       50      1         T   \n",
       "2      2022-09-15                0       00      1         Q   \n",
       "3      2023-01-20                0       00      1         B   \n",
       "4      2022-10-03                1       50      1         R   \n",
       "...           ...              ...      ...    ...       ...   \n",
       "26212  2022-08-11                0       00      1         P   \n",
       "26213  2022-08-03                0       00      1         P   \n",
       "26214  2022-08-11                0       00      1         P   \n",
       "26215  2022-09-02                0       00      1         P   \n",
       "26216  2022-10-15                0       00      1         P   \n",
       "\n",
       "       SHIP DECISION NO  PACK QTY  WEIGHT PER PIECE  SUPPLIER_DIV  \\\n",
       "0                   NaN         0              1020           2.0   \n",
       "1              166104.0         0               120           1.0   \n",
       "2              461869.0         0             18000           3.0   \n",
       "3                   NaN         0               500           2.0   \n",
       "4              508041.0         0                36           2.0   \n",
       "...                 ...       ...               ...           ...   \n",
       "26212           34435.0         0               100           3.0   \n",
       "26213          230847.0        10               315           3.0   \n",
       "26214           35075.0         0                28           1.0   \n",
       "26215          203089.0         0                40           2.0   \n",
       "26216          119907.0         0                 1           3.0   \n",
       "\n",
       "       SPECIAL_DIV  SO_DAY_OF_MONTH  SO_DAY_OF_WEEK  REASON_CD SOUF_RCV_NO  \\\n",
       "0                0               25               4      453.0         NaN   \n",
       "1                0               12               5      451.0         NaN   \n",
       "2                0                8               5      410.0         NaN   \n",
       "3                0                8               5      453.0         NaN   \n",
       "4                0               25               4      455.0         NaN   \n",
       "...            ...              ...             ...        ...         ...   \n",
       "26212            1               27               3        NaN         NaN   \n",
       "26213            1               27               3      401.0         NaN   \n",
       "26214            1               27               3        NaN         NaN   \n",
       "26215            1               19               5      401.0         NaN   \n",
       "26216            1               16               5      451.0         NaN   \n",
       "\n",
       "       QTUF_RCV_NO  SO_TIME  \n",
       "0              NaN   135557  \n",
       "1              NaN   134532  \n",
       "2              NaN   160936  \n",
       "3              NaN   160702  \n",
       "4              NaN   160244  \n",
       "...            ...      ...  \n",
       "26212          NaN    84245  \n",
       "26213          NaN   190113  \n",
       "26214          NaN   195137  \n",
       "26215          NaN   160258  \n",
       "26216          NaN   181626  \n",
       "\n",
       "[26217 rows x 37 columns]})], return_intermediate_steps=True)"
      ]
     },
     "execution_count": 35,
     "metadata": {},
     "output_type": "execute_result"
    }
   ],
   "source": [
    "df = pd.read_csv(\"../data/raw/delay_7_9_CONDITION_PRODUCT_SUPPLIER.csv\")\n",
    "da_agent = create_pandas_dataframe_agent(\n",
    "        llm=llm, \n",
    "        df=df,\n",
    "        agent_type=\"zero-shot-react-description\",        allow_dangerous_code=True,\n",
    "        verbose=True,\n",
    "        return_intermediate_steps=True)\n",
    "da_agent"
   ]
  },
  {
   "cell_type": "code",
   "execution_count": 36,
   "metadata": {},
   "outputs": [
    {
     "name": "stdout",
     "output_type": "stream",
     "text": [
      "\n",
      "\n",
      "\u001b[1m> Entering new AgentExecutor chain...\u001b[0m\n"
     ]
    },
    {
     "data": {
      "image/png": "[encoded data removed]",
      "text/plain": [
       "<Figure size 640x480 with 1 Axes>"
      ]
     },
     "metadata": {},
     "output_type": "display_data"
    },
    {
     "name": "stdout",
     "output_type": "stream",
     "text": [
      "\u001b[32;1m\u001b[1;3mThought: I need to use the python_repl_ast tool to plot a scatter plot of 'PURCHASE AMOUNT' and 'SUPPLIER INV AMOUNT' from the dataframe `df`. I will use matplotlib.pyplot for this.\n",
      "\n",
      "Action: python_repl_ast\n",
      "Action Input:\n",
      "```python\n",
      "import matplotlib.pyplot as plt\n",
      "\n",
      "plt.scatter(df['PURCHASE AMOUNT'], df['SUPPLIER INV AMOUNT'])\n",
      "plt.xlabel('PURCHASE AMOUNT')\n",
      "plt.ylabel('SUPPLIER INV AMOUNT')\n",
      "plt.title('Scatter Plot of PURCHASE AMOUNT vs SUPPLIER INV AMOUNT')\n",
      "plt.show()\n",
      "```\u001b[0m\u001b[36;1m\u001b[1;3m\u001b[0m\u001b[32;1m\u001b[1;3mFinal Answer: The scatter plot of PURCHASE AMOUNT vs SUPPLIER INV AMOUNT has been generated and displayed.\n",
      "\u001b[0m\n",
      "\n",
      "\u001b[1m> Finished chain.\u001b[0m\n"
     ]
    }
   ],
   "source": [
    "# Ví dụ 1: Vẽ biểu đồ phân tán giữa SO QTY và PURCHASE AMOUNT\n",
    "query = 'Create a scatter plot of SO QTY vs PURCHASE AMOUNT'\n",
    "\n",
    "# Hoặc Ví dụ 2: Vẽ biểu đồ phân tán giữa SO QTY và SUPPLIER INV AMOUNT\n",
    "query = 'Plot scatter plot of PURCHASE AMOUNT & SUPPLIER INV AMOUNT'\n",
    "\n",
    "response = da_agent.invoke(query)"
   ]
  },
  {
   "cell_type": "code",
   "execution_count": 43,
   "metadata": {},
   "outputs": [
    {
     "data": {
      "text/plain": [
       "\"import matplotlib.pyplot as plt\\n\\nplt.scatter(df['PURCHASE AMOUNT'], df['SUPPLIER INV AMOUNT'])\\nplt.xlabel('PURCHASE AMOUNT')\\nplt.ylabel('SUPPLIER INV AMOUNT')\\nplt.title('Scatter Plot of PURCHASE AMOUNT vs SUPPLIER INV AMOUNT')\\nplt.show()\\n\""
      ]
     },
     "execution_count": 43,
     "metadata": {},
     "output_type": "execute_result"
    }
   ],
   "source": [
    "# Lấy query từ intermediate_steps\n",
    "query = response['intermediate_steps'][0][0].tool_input\n",
    "\n",
    "# Xử lý chuỗi để loại bỏ các ký tự đánh dấu code block\n",
    "query = query.replace('```python\\n', '').replace('```', '')\n",
    "\n",
    "query"
   ]
  }
 ],
 "metadata": {
  "kernelspec": {
   "display_name": "da_agent_venv",
   "language": "python",
   "name": "python3"
  },
  "language_info": {
   "codemirror_mode": {
    "name": "ipython",
    "version": 3
   },
   "file_extension": ".py",
   "mimetype": "text/x-python",
   "name": "python",
   "nbconvert_exporter": "python",
   "pygments_lexer": "ipython3",
   "version": "3.13.3"
  }
 },
 "nbformat": 4,
 "nbformat_minor": 2
}
